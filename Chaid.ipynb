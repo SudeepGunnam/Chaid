{
 "cells": [
  {
   "cell_type": "code",
   "execution_count": 1,
   "metadata": {},
   "outputs": [],
   "source": [
    "import pandas as pd\n",
    "import numpy as np\n",
    "import math\n",
    "\n",
    "import matplotlib.pyplot as plt\n",
    "%matplotlib inline\n",
    "from sklearn import metrics\n",
    "\n",
    "import warnings\n",
    "warnings.filterwarnings(\"ignore\")\n",
    "\n",
    "from sklearn.ensemble import RandomForestRegressor\n",
    "from sklearn.model_selection import train_test_split\n",
    "from sklearn.model_selection import cross_val_score, GridSearchCV\n",
    "from sklearn.preprocessing import MinMaxScaler\n",
    "\n",
    "import matplotlib.pyplot as plt\n",
    "import seaborn as sns\n",
    "%matplotlib inline"
   ]
  },
  {
   "cell_type": "code",
   "execution_count": 2,
   "metadata": {},
   "outputs": [],
   "source": [
    "from CHAID import Tree"
   ]
  },
  {
   "cell_type": "code",
   "execution_count": 3,
   "metadata": {},
   "outputs": [],
   "source": [
    "data = pd.read_csv(\"tr_code.csv\")\n",
    "data.drop(data.columns[0],axis=1,inplace=True)\n",
    "data = data[~data['familyGroup'].isin(['NON_PRODUCT','BREAKFAST_DRINK','GIFT_COUPON'])]"
   ]
  },
  {
   "cell_type": "code",
   "execution_count": 5,
   "metadata": {},
   "outputs": [],
   "source": [
    "quantity_by_individualItems = data.pivot_table(values=['qty'], index = data.key, columns='ItemName', aggfunc='sum').fillna(0)\n",
    "quantity_by_individualItems.columns = list(map(\"_\".join, quantity_by_individualItems.columns))\n",
    "final_dataset = quantity_by_individualItems \\\n",
    ".join(data[[\"key\",\"Channel\",\"saleType\",\"timeOfDay\",\"receiptToPresentTime\"]].set_index(\"key\"),on=['key'],how=\"left\").reset_index()"
   ]
  },
  {
   "cell_type": "code",
   "execution_count": 30,
   "metadata": {},
   "outputs": [],
   "source": [
    "df = final_dataset[final_dataset[\"Channel\"]==\"Front Counter\"].drop([\"saleType\",\"timeOfDay\",\"Channel\",\"key\"], axis = 1)\n",
    "df = df[df['receiptToPresentTime']!='[nan nan]']\n",
    "df['receiptToPresentTime'] = df['receiptToPresentTime'].astype('float').map(lambda x : round(x,2))"
   ]
  },
  {
   "cell_type": "code",
   "execution_count": 32,
   "metadata": {},
   "outputs": [],
   "source": [
    "## set the CHAID input parameters\n",
    "independent_variable_columns = list(df.drop([\"receiptToPresentTime\"],axis=1).columns)\n",
    "dep_variable = 'receiptToPresentTime'"
   ]
  },
  {
   "cell_type": "code",
   "execution_count": 24,
   "metadata": {},
   "outputs": [],
   "source": [
    "## create the Tree via pandas\n",
    "#tree = Tree.from_pandas_df(df, dict(zip(independent_variable_columns, ['nominal'] * 3)), dep_variable)"
   ]
  },
  {
   "cell_type": "code",
   "execution_count": 25,
   "metadata": {},
   "outputs": [],
   "source": [
    "## create the same tree, but without pandas helper\n",
    "#tree = Tree.from_numpy(ndarr, arr, split_titles=['a', 'b', 'c'], min_child_node_size=5)"
   ]
  },
  {
   "cell_type": "code",
   "execution_count": 26,
   "metadata": {},
   "outputs": [],
   "source": [
    "## create the same tree using the tree constructor\n",
    "# cols = [\n",
    "#   NominalColumn(ndarr[:,0], name='a')\n",
    "#   NominalColumn(ndarr[:,1], name='b')\n",
    "#   NominalColumn(ndarr[:,2], name='c')\n",
    "# ]\n",
    "# tree = Tree(cols, NominalColumn(arr, name='d'), {'min_child_node_size': 5})"
   ]
  },
  {
   "cell_type": "code",
   "execution_count": 28,
   "metadata": {},
   "outputs": [],
   "source": [
    "#tree.print_tree()"
   ]
  },
  {
   "cell_type": "code",
   "execution_count": 33,
   "metadata": {},
   "outputs": [],
   "source": [
    "tree = Tree.from_pandas_df(df, dict(zip(independent_variable_columns, ['nominal'] * 3)), dep_variable, dep_variable_type='continuous')"
   ]
  },
  {
   "cell_type": "code",
   "execution_count": 34,
   "metadata": {},
   "outputs": [
    {
     "name": "stdout",
     "output_type": "stream",
     "text": [
      "([], {'mean': 212.49394166666664, 's.t.d': 226.8619830162088}, <Invalid Chaid Split> - splitting would create nodes with less than the minimum child node size)\n",
      "\n"
     ]
    }
   ],
   "source": [
    "tree.print_tree()"
   ]
  },
  {
   "cell_type": "code",
   "execution_count": 35,
   "metadata": {},
   "outputs": [
    {
     "data": {
      "text/plain": [
       "<treelib.tree.Tree at 0x1f0c7ab7518>"
      ]
     },
     "execution_count": 35,
     "metadata": {},
     "output_type": "execute_result"
    }
   ],
   "source": [
    "tree.to_tree()"
   ]
  },
  {
   "cell_type": "code",
   "execution_count": 36,
   "metadata": {},
   "outputs": [],
   "source": [
    "first_node = tree.tree_store[0]"
   ]
  },
  {
   "cell_type": "code",
   "execution_count": 38,
   "metadata": {},
   "outputs": [
    {
     "data": {
      "text/plain": [
       "([], {'mean': 212.49394166666664, 's.t.d': 226.8619830162088}, <Invalid Chaid Split> - splitting would create nodes with less than the minimum child node size)"
      ]
     },
     "execution_count": 38,
     "metadata": {},
     "output_type": "execute_result"
    }
   ],
   "source": [
    "first_node"
   ]
  },
  {
   "cell_type": "code",
   "execution_count": 39,
   "metadata": {},
   "outputs": [
    {
     "data": {
      "text/plain": [
       "{'mean': 212.49394166666664, 's.t.d': 226.8619830162088}"
      ]
     },
     "execution_count": 39,
     "metadata": {},
     "output_type": "execute_result"
    }
   ],
   "source": [
    "first_node.members"
   ]
  },
  {
   "cell_type": "code",
   "execution_count": null,
   "metadata": {},
   "outputs": [],
   "source": []
  }
 ],
 "metadata": {
  "kernelspec": {
   "display_name": "Python 3",
   "language": "python",
   "name": "python3"
  },
  "language_info": {
   "codemirror_mode": {
    "name": "ipython",
    "version": 3
   },
   "file_extension": ".py",
   "mimetype": "text/x-python",
   "name": "python",
   "nbconvert_exporter": "python",
   "pygments_lexer": "ipython3",
   "version": "3.7.3"
  }
 },
 "nbformat": 4,
 "nbformat_minor": 2
}
